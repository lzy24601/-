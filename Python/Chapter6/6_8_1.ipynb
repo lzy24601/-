{
 "cells": [
  {
   "cell_type": "code",
   "execution_count": 1,
   "metadata": {},
   "outputs": [
    {
     "ename": "ValueError",
     "evalue": "invalid literal for int() with base 10: '--ip=127.0.0.1'",
     "output_type": "error",
     "traceback": [
      "\u001b[1;31m---------------------------------------------------------------------------\u001b[0m",
      "\u001b[1;31mValueError\u001b[0m                                Traceback (most recent call last)",
      "\u001b[1;32mc:\\Users\\Administrator\\Desktop\\研一\\Python\\Chapter6\\6_8_1.ipynb Cell 1\u001b[0m line \u001b[0;36m3\n\u001b[0;32m      <a href='vscode-notebook-cell:/c%3A/Users/Administrator/Desktop/%E7%A0%94%E4%B8%80/Python/Chapter6/6_8_1.ipynb#W0sZmlsZQ%3D%3D?line=0'>1</a>\u001b[0m \u001b[39m# 6.1\u001b[39;00m\n\u001b[0;32m      <a href='vscode-notebook-cell:/c%3A/Users/Administrator/Desktop/%E7%A0%94%E4%B8%80/Python/Chapter6/6_8_1.ipynb#W0sZmlsZQ%3D%3D?line=1'>2</a>\u001b[0m \u001b[39mimport\u001b[39;00m \u001b[39msys\u001b[39;00m\u001b[39m,\u001b[39m \u001b[39mrandom\u001b[39;00m\n\u001b[1;32m----> <a href='vscode-notebook-cell:/c%3A/Users/Administrator/Desktop/%E7%A0%94%E4%B8%80/Python/Chapter6/6_8_1.ipynb#W0sZmlsZQ%3D%3D?line=2'>3</a>\u001b[0m n \u001b[39m=\u001b[39m \u001b[39mint\u001b[39;49m(sys\u001b[39m.\u001b[39;49margv[\u001b[39m1\u001b[39;49m])\n\u001b[0;32m      <a href='vscode-notebook-cell:/c%3A/Users/Administrator/Desktop/%E7%A0%94%E4%B8%80/Python/Chapter6/6_8_1.ipynb#W0sZmlsZQ%3D%3D?line=3'>4</a>\u001b[0m \u001b[39mfor\u001b[39;00m i \u001b[39min\u001b[39;00m \u001b[39mrange\u001b[39m(n):\n\u001b[0;32m      <a href='vscode-notebook-cell:/c%3A/Users/Administrator/Desktop/%E7%A0%94%E4%B8%80/Python/Chapter6/6_8_1.ipynb#W0sZmlsZQ%3D%3D?line=4'>5</a>\u001b[0m     \u001b[39mprint\u001b[39m(random\u001b[39m.\u001b[39mrandrange(\u001b[39m0\u001b[39m,\u001b[39m100\u001b[39m))\n",
      "\u001b[1;31mValueError\u001b[0m: invalid literal for int() with base 10: '--ip=127.0.0.1'"
     ]
    }
   ],
   "source": [
    "# 6.1\n",
    "import sys, random\n",
    "n = int(sys.argv[1])\n",
    "for i in range(n):\n",
    "    print(random.randrange(0,100))"
   ]
  },
  {
   "cell_type": "code",
   "execution_count": null,
   "metadata": {},
   "outputs": [],
   "source": [
    "# 6.2\n",
    "import argparse\n",
    "parser = argparse.ArgumentParser()\n",
    "parser.add_argument('--length',default = 10, type = int, help='长度')\n",
    "parser.add_argument('--width',default = 5, type = int, help='宽度')\n",
    "args = parser.parse_args()\n",
    "area = args.length*args.width\n",
    "print(\"面积 = \", area)"
   ]
  },
  {
   "cell_type": "code",
   "execution_count": null,
   "metadata": {},
   "outputs": [],
   "source": [
    "# 6.3\n",
    "print(1,2,3)\n",
    "print(1,2,3,sep=',')\n",
    "print(1,2,3,sep=',',end='.\\n')\n",
    "for i in range(5):\n",
    "    print(i,end=' ')"
   ]
  },
  {
   "cell_type": "code",
   "execution_count": null,
   "metadata": {},
   "outputs": [],
   "source": [
    "# 6.4\n",
    "import datetime\n",
    "sName = input(\"请输入你的姓名：\")\n",
    "birthyear = int(input(\"请输入您的出生年份：\"))\n",
    "age = datetime.date.today().year - birthyear\n",
    "print(\"您好！{0}。您{1}岁。\".format(sName,age))"
   ]
  },
  {
   "cell_type": "code",
   "execution_count": null,
   "metadata": {},
   "outputs": [],
   "source": [
    "# 6.5\n",
    "import sys\n",
    "n = int(sys.argv[1])\n",
    "sum = 0 \n",
    "for i in range(n):\n",
    "    number = int(input(\"请输入整数:\"))\n",
    "    sum +=number\n",
    "print(\"累计和为：\",sum)"
   ]
  },
  {
   "cell_type": "code",
   "execution_count": null,
   "metadata": {},
   "outputs": [],
   "source": [
    "# 6.6\n",
    "a = []\n",
    "x = float(input(\"请输入一个实属，输入-1终止：\"))\n",
    "while x != -1:\n",
    "    a.append(x) \n",
    "    x = float(input(\"请输入一个实属，输入-1终止：\"))\n",
    "print(\"计数：\",len(a))\n",
    "print(\"求和：\",sum(a))\n",
    "print(\"平均值：\",sum(a)/len(a))"
   ]
  },
  {
   "cell_type": "code",
   "execution_count": null,
   "metadata": {},
   "outputs": [],
   "source": [
    "# 6.7\n",
    "import getpass\n",
    "username = input(\"用户名：\")\n",
    "passwd = getpass.getpass(\"密码：\")\n",
    "if username == 'jianghong' and passwd == 'password':\n",
    "    print('登录成功')\n",
    "else:\n",
    "    print('登录失败')"
   ]
  },
  {
   "cell_type": "code",
   "execution_count": null,
   "metadata": {},
   "outputs": [],
   "source": [
    "# 6.8\n",
    "import sys\n",
    "filename = sys.argv[0]\n",
    "f = open(filename,'r',encoding='utf8')\n",
    "line_no = 0\n",
    "while True:\n",
    "    line_no +=1\n",
    "    line = f.readline()\n",
    "    if line:\n",
    "        print(line_no,\":\",line)\n",
    "    else:\n",
    "        break\n",
    "f.close()"
   ]
  },
  {
   "cell_type": "code",
   "execution_count": null,
   "metadata": {},
   "outputs": [],
   "source": [
    "# 6.9\n",
    "import sys\n",
    "filename = sys.argv[0]\n",
    "line_no = 0\n",
    "with open(filename,'r',encoding='utf8') as f:\n",
    "    for line in f:\n",
    "        line_no += 1\n",
    "        print(line_no,\":\",line)\n",
    "f.close()"
   ]
  },
  {
   "cell_type": "code",
   "execution_count": null,
   "metadata": {},
   "outputs": [],
   "source": [
    "# 6.10\n",
    "import sys\n",
    "print(\"An error message\",file = sys.stdout)\n",
    "sys.stdout.write(\"Another error message\\n\")"
   ]
  },
  {
   "cell_type": "code",
   "execution_count": null,
   "metadata": {},
   "outputs": [],
   "source": [
    "# 6.11\n",
    "import sys\n",
    "total = 0.0\n",
    "count = 0\n",
    "for line in sys.stdin:\n",
    "    count += 1\n",
    "    total += float(line)\n",
    "avg = total/count\n",
    "print(\"平均值为：\",avg)"
   ]
  },
  {
   "cell_type": "code",
   "execution_count": null,
   "metadata": {},
   "outputs": [],
   "source": [
    "# 6.12\n",
    "import sys\n",
    "n = int(sys.argv[1])\n",
    "power = 1\n",
    "i = 0\n",
    "f = open('out.log','w')\n",
    "sys.stdout = f\n",
    "while i <= n:\n",
    "    print(str(i),' ',str(i*2),' ',str(power))\n",
    "    power = 2*power\n",
    "    i += 1\n",
    "\n",
    "sys.stdout = sys.__stdout__\n",
    "print('done!')"
   ]
  }
 ],
 "metadata": {
  "kernelspec": {
   "display_name": "Python 3",
   "language": "python",
   "name": "python3"
  },
  "language_info": {
   "codemirror_mode": {
    "name": "ipython",
    "version": 3
   },
   "file_extension": ".py",
   "mimetype": "text/x-python",
   "name": "python",
   "nbconvert_exporter": "python",
   "pygments_lexer": "ipython3",
   "version": "3.11.5"
  }
 },
 "nbformat": 4,
 "nbformat_minor": 2
}
