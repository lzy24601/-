{
 "cells": [
  {
   "cell_type": "code",
   "execution_count": null,
   "metadata": {},
   "outputs": [],
   "source": [
    "# 2.1\n",
    "\n",
    "import math\n",
    "a = 3.0\n",
    "b = 4.0\n",
    "c=5.0\n",
    "h = (a+b+c)/2\n",
    "s=math.sqrt(h*(h-a)*(h-b)*(h-c))\n",
    "print(s)"
   ]
  },
  {
   "cell_type": "code",
   "execution_count": 1,
   "metadata": {},
   "outputs": [
    {
     "name": "stdout",
     "output_type": "stream",
     "text": [
      "123\n",
      "140727267619432\n",
      "<class 'int'>\n"
     ]
    }
   ],
   "source": [
    "# 2.2\n",
    "print(123)\n",
    "print(id(123))\n",
    "print(type(123))"
   ]
  },
  {
   "cell_type": "code",
   "execution_count": 2,
   "metadata": {},
   "outputs": [
    {
     "name": "stdout",
     "output_type": "stream",
     "text": [
      "<class 'builtin_function_or_method'>\n",
      "2553355344192\n",
      "<class 'type'>\n",
      "140727266147328\n"
     ]
    }
   ],
   "source": [
    "print(type(abs))\n",
    "print(id(abs))\n",
    "print(type(range))\n",
    "print(id(range))"
   ]
  },
  {
   "cell_type": "code",
   "execution_count": 3,
   "metadata": {},
   "outputs": [
    {
     "name": "stdout",
     "output_type": "stream",
     "text": [
      "2551299556992\n",
      "2551299556992\n",
      "2551299556992\n",
      "True\n",
      "2551299558144\n",
      "False\n",
      "True\n"
     ]
    }
   ],
   "source": [
    "# 2.13\n",
    "x = y = [1,2,3]\n",
    "print(id(x))\n",
    "print(id(y))\n",
    "x.append(4)\n",
    "print(id(x))\n",
    "print(x is y)\n",
    "z = [1,2,3,4]\n",
    "print(id(z))\n",
    "print(x is z)\n",
    "print(x == z)\n"
   ]
  },
  {
   "cell_type": "code",
   "execution_count": 4,
   "metadata": {},
   "outputs": [
    {
     "name": "stdout",
     "output_type": "stream",
     "text": [
      "123   123\n"
     ]
    }
   ],
   "source": [
    "# 2.16\n",
    "x=y=123\n",
    "print(x,' ',y)"
   ]
  },
  {
   "cell_type": "code",
   "execution_count": 5,
   "metadata": {},
   "outputs": [
    {
     "ename": "NameError",
     "evalue": "name 'x' is not defined",
     "output_type": "error",
     "traceback": [
      "\u001b[1;31m---------------------------------------------------------------------------\u001b[0m",
      "\u001b[1;31mNameError\u001b[0m                                 Traceback (most recent call last)",
      "\u001b[1;32mc:\\Users\\Administrator\\Desktop\\研一\\Python\\Chapter2\\2_11_1.ipynb Cell 6\u001b[0m line \u001b[0;36m3\n\u001b[0;32m      <a href='vscode-notebook-cell:/c%3A/Users/Administrator/Desktop/%E7%A0%94%E4%B8%80/Python/Chapter2/2_11_1.ipynb#W5sZmlsZQ%3D%3D?line=0'>1</a>\u001b[0m x \u001b[39m=\u001b[39m \u001b[39m1\u001b[39m\n\u001b[0;32m      <a href='vscode-notebook-cell:/c%3A/Users/Administrator/Desktop/%E7%A0%94%E4%B8%80/Python/Chapter2/2_11_1.ipynb#W5sZmlsZQ%3D%3D?line=1'>2</a>\u001b[0m \u001b[39mdel\u001b[39;00m x\n\u001b[1;32m----> <a href='vscode-notebook-cell:/c%3A/Users/Administrator/Desktop/%E7%A0%94%E4%B8%80/Python/Chapter2/2_11_1.ipynb#W5sZmlsZQ%3D%3D?line=2'>3</a>\u001b[0m x\n",
      "\u001b[1;31mNameError\u001b[0m: name 'x' is not defined"
     ]
    }
   ],
   "source": [
    "x = 1\n",
    "del x\n",
    "x"
   ]
  },
  {
   "cell_type": "code",
   "execution_count": 6,
   "metadata": {},
   "outputs": [
    {
     "name": "stdout",
     "output_type": "stream",
     "text": [
      "1   2\n"
     ]
    }
   ],
   "source": [
    "# 2.19\n",
    "a,b = 1,2\n",
    "print(a,' ',b)"
   ]
  },
  {
   "cell_type": "code",
   "execution_count": 7,
   "metadata": {},
   "outputs": [
    {
     "name": "stdout",
     "output_type": "stream",
     "text": [
      "2\n",
      "1\n"
     ]
    }
   ],
   "source": [
    "# 2.10\n",
    "a,b = (1,2)\n",
    "a,b = b,a\n",
    "print(a)\n",
    "print(b)\n"
   ]
  },
  {
   "cell_type": "code",
   "execution_count": 10,
   "metadata": {},
   "outputs": [
    {
     "name": "stdout",
     "output_type": "stream",
     "text": [
      "圆的周长为: 31.41592653589793\n",
      "圆的面积为: 78.53981633974483\n"
     ]
    }
   ],
   "source": [
    "# 2.25\n",
    "import math\n",
    "r = float(input(\"请输入圆的半径：\"))\n",
    "p = 2 * math.pi * r\n",
    "s = math.pi * r**2\n",
    "\n",
    "print(\"圆的周长为:\",p)\n",
    "print(\"圆的面积为:\",s)"
   ]
  },
  {
   "cell_type": "code",
   "execution_count": 13,
   "metadata": {},
   "outputs": [
    {
     "name": "stdout",
     "output_type": "stream",
     "text": [
      "Hello World!\n",
      "To be or not to be,this is a question!\n"
     ]
    }
   ],
   "source": [
    "# 2.28\n",
    "\n",
    "def sayHello():\n",
    "    print('Hello World!')\n",
    "    print('To be or not to be,this is a question!')\n",
    "\n",
    "sayHello()"
   ]
  },
  {
   "cell_type": "code",
   "execution_count": 14,
   "metadata": {},
   "outputs": [
    {
     "name": "stdout",
     "output_type": "stream",
     "text": [
      "1276.2815625000003\n"
     ]
    }
   ],
   "source": [
    "# 2.29\n",
    "def getValue(b,r,n):\n",
    "    v = b * ((1+r)**n)\n",
    "    return v\n",
    "\n",
    "total = getValue(1000,0.05,5)\n",
    "print(total)\n"
   ]
  },
  {
   "cell_type": "code",
   "execution_count": 16,
   "metadata": {},
   "outputs": [
    {
     "name": "stdout",
     "output_type": "stream",
     "text": [
      "<class 'str'>\n",
      "39\n"
     ]
    }
   ],
   "source": [
    "# 2.30\n",
    "s = \"To be or not to be, this is a question!\"\n",
    "print(type(s))\n",
    "print(len(s))"
   ]
  },
  {
   "cell_type": "code",
   "execution_count": 17,
   "metadata": {},
   "outputs": [
    {
     "name": "stdout",
     "output_type": "stream",
     "text": [
      "Hello,how are you?\n"
     ]
    }
   ],
   "source": [
    "# 2.33\n",
    "\n",
    "class Person:\n",
    "    def sayHello(self):\n",
    "        print('Hello,how are you?')\n",
    "\n",
    "p = Person()\n",
    "p.sayHello()\n"
   ]
  },
  {
   "cell_type": "code",
   "execution_count": 18,
   "metadata": {},
   "outputs": [
    {
     "name": "stdout",
     "output_type": "stream",
     "text": [
      "方程x**x + 5*x + 6 = 0的解为： -2.0 -3.0\n"
     ]
    }
   ],
   "source": [
    "# 2.34\n",
    "\n",
    "import math\n",
    "\n",
    "a = 1;b = 5;c = 6\n",
    "\n",
    "x1 = (-b+math.sqrt(b*b-4*a*c))/(2*a)\n",
    "x2 = (-b-math.sqrt(b*b-4*a*c))/(2*a)\n",
    "print('方程x**x + 5*x + 6 = 0的解为：',x1,x2)"
   ]
  }
 ],
 "metadata": {
  "kernelspec": {
   "display_name": "Python 3",
   "language": "python",
   "name": "python3"
  },
  "language_info": {
   "codemirror_mode": {
    "name": "ipython",
    "version": 3
   },
   "file_extension": ".py",
   "mimetype": "text/x-python",
   "name": "python",
   "nbconvert_exporter": "python",
   "pygments_lexer": "ipython3",
   "version": "3.11.5"
  }
 },
 "nbformat": 4,
 "nbformat_minor": 2
}
