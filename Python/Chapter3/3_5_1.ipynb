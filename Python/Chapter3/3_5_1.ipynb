{
 "cells": [
  {
   "cell_type": "code",
   "execution_count": null,
   "metadata": {},
   "outputs": [],
   "source": [
    "# 3.1\n",
    "\n",
    "import math\n",
    "\n",
    "a = float(input(\"请输入三角形的边长a:\"))\n",
    "b = float(input(\"请输入三角形的边长b:\"))\n",
    "c = float(input(\"请输入三角形的边长c:\"))\n",
    "h = (a+b+c)\n",
    "\n",
    "area = math.sqrt(h*(h-a)*(h-b)*(h-c))\n",
    "print(str.format(\"三角形三边分别为：a = {0},b = {1},c = {2}\",a,b,c))\n",
    "print(str.format(\"三角形的面积为：= {0}\",area))\n"
   ]
  },
  {
   "cell_type": "code",
   "execution_count": null,
   "metadata": {},
   "outputs": [],
   "source": [
    "# 3.2\n",
    "\n",
    "a = int(input(\"请输入第1个整数：\"))\n",
    "b = int(input(\"请输入第2个整数：\"))\n",
    "print(str.format(\"输入值：{0}, {1}\",a,b))\n",
    "if(a<b):\n",
    "    t = a \n",
    "    a = b\n",
    "    b = t\n",
    "print(str.format(\"降序值：{0}, {1}\",a,b))\n"
   ]
  },
  {
   "cell_type": "code",
   "execution_count": null,
   "metadata": {},
   "outputs": [],
   "source": [
    "# 3.3\n",
    "import math\n",
    "x = int(input(\"请输入x：\"))\n",
    "# 单分支\n",
    "if(x>=0):\n",
    "    y = math.sin(x)+2*math.sqrt(x+math.exp(4))-math.pow(x+1,3)\n",
    "if(x<0):\n",
    "    y = math.log(-5*x)-math.fabs(x*x-8*x)/(7*x)+math.e\n",
    "\n",
    "# 双分支\n",
    "if(x>=0):\n",
    "    y = math.sin(x)+2*math.sqrt(x+math.exp(4))-math.pow(x+1,3)\n",
    "else:\n",
    "    y = math.log(-5*x)-math.fabs(x*x-8*x)/(7*x)+math.e\n",
    "\n",
    "# 条件运算语句\n",
    "y = (math.sin(x)+2*math.sqrt(x+math.exp(4))-math.pow(x+1,3)) if((x>=0)) else\\\n",
    "    (math.log(-5*x)-math.fabs(x*x-8*x)/(7*x)+math.e)\n"
   ]
  },
  {
   "cell_type": "code",
   "execution_count": 2,
   "metadata": {},
   "outputs": [],
   "source": [
    "# 3.4\n",
    "\n",
    "mark =int(input(\"请输入分数：\"))\n",
    "# 方法一\n",
    "if (mark>=90):grade = \"优\"\n",
    "elif (mark>=80):grade = \"良\"\n",
    "elif (mark>=70):grade = \"中\"\n",
    "elif (mark>=60):grade = \"及格\"\n",
    "else: grade = \"不及格\"\n",
    "\n",
    "# 方法二\n",
    "if (mark>=90):grade = \"优\"\n",
    "elif (mark>=80 and mark<90):grade = \"良\"\n",
    "elif (mark>=70 and mark<80):grade = \"中\"\n",
    "elif (mark>=60 and mark<70):grade = \"及格\"\n",
    "else: grade = \"不及格\"\n",
    "# 方法三\n",
    "if (mark>=60):grade = \"及格\"\n",
    "elif (mark>=70):grade = \"中\"\n",
    "elif (mark>=80):grade = \"良\"\n",
    "elif (mark>=90):grade = \"优\"\n",
    "else: grade = \"不及格\""
   ]
  },
  {
   "cell_type": "code",
   "execution_count": 3,
   "metadata": {},
   "outputs": [
    {
     "name": "stdout",
     "output_type": "stream",
     "text": [
      "位于第一象限\n"
     ]
    }
   ],
   "source": [
    "# 3.5\n",
    "x = int(input(\"请输入x坐标：\"))\n",
    "y = int(input(\"请输入y坐标：\"))\n",
    "\n",
    "if(x == 0 and y == 0):print(\"位于原点\")\n",
    "elif(x == 0):print(\"位于y轴\")\n",
    "elif(y == 0):print(\"位于x轴\")\n",
    "elif(x > 0 and y > 0):print(\"位于第一象限\")\n",
    "elif(x > 0 and y < 0):print(\"位于第二象限\")\n",
    "elif(x < 0 and y < 0):print(\"位于第三象限\")\n",
    "else:print(\"位于第四象限\")"
   ]
  },
  {
   "cell_type": "code",
   "execution_count": null,
   "metadata": {},
   "outputs": [],
   "source": [
    "# 3.6\n",
    "# 方法一（多分支结构）：\n",
    "if(x>0):y = 1\n",
    "elif(x == 0):y = 0\n",
    "else: y = -1\n",
    "# 方法二（if语句嵌套结构）：\n",
    "if(x>=0):\n",
    "    if(x>0):y = -1\n",
    "    else:y = 0\n",
    "else:y = -1\n",
    "# 方法三：\n",
    "y = 1\n",
    "if(x!=0):\n",
    "    if(x>0):y = -1\n",
    "else: y = 0\n",
    "# 方法四：(错误)\n",
    "y = 1\n",
    "if(x!=0):\n",
    "    if(x<0):y = -1\n",
    "else: y = 0"
   ]
  },
  {
   "cell_type": "code",
   "execution_count": 4,
   "metadata": {},
   "outputs": [
    {
     "name": "stdout",
     "output_type": "stream",
     "text": [
      "排序结果（降序）： 5 3 2\n"
     ]
    }
   ],
   "source": [
    "# 3.7\n",
    "a = int(input(\"请输入整数a：\"))\n",
    "b = int(input(\"请输入整数b：\"))\n",
    "c = int(input(\"请输入整数c：\"))\n",
    "if(a<b):t = a;a = b;b = t\n",
    "if(a<c):t = a;a = c;c = t\n",
    "if(b<c):t = b;b = c;c = t\n",
    "print(\"排序结果（降序）：\",a,b,c)\n"
   ]
  },
  {
   "cell_type": "code",
   "execution_count": 6,
   "metadata": {},
   "outputs": [
    {
     "name": "stdout",
     "output_type": "stream",
     "text": [
      "是闰年\n",
      "是闰年\n",
      "是闰年\n",
      "是闰年\n"
     ]
    }
   ],
   "source": [
    "# 3.8\n",
    "y = int(input(\"请输入年份:\"))\n",
    "# 方法一\n",
    "if((y % 4 == 0 and y % 100 != 0) or y % 400 == 0):\n",
    "    print(\"是闰年\")\n",
    "else: print(\"不是闰年\")\n",
    "# 方法二\n",
    "if(y % 400 == 0):print(\"是闰年\")\n",
    "else:\n",
    "    if(y % 4 == 0):\n",
    "        if(y % 100 == 0):print(\"不是闰年\")\n",
    "        else:print(\"是闰年\")\n",
    "    else:print(\"不是闰年\")\n",
    "# 方法三\n",
    "if(y % 400 == 0):print(\"是闰年\")\n",
    "elif(y % 4 != 0):print(\"不是闰年\")\n",
    "elif(y % 100 == 0):print(\"不是闰年\")\n",
    "else:print(\"是闰年\")\n",
    "# 方法四\n",
    "import calendar\n",
    "if(calendar.isleap(y)):print(\"是闰年\")\n",
    "else:print(\"不是闰年\")"
   ]
  },
  {
   "cell_type": "code",
   "execution_count": 8,
   "metadata": {},
   "outputs": [
    {
     "name": "stdout",
     "output_type": "stream",
     "text": [
      "1~100中所有奇数的和： 2500\n",
      "1~100中所有偶数的和： 2550\n"
     ]
    }
   ],
   "source": [
    "# 3.9\n",
    "sum_odd = 0\n",
    "sum_even = 0\n",
    "for i in range(1,101):\n",
    "    if i % 2 != 0:\n",
    "        sum_odd += i\n",
    "    else:\n",
    "        sum_even += i\n",
    "print(\"1~100中所有奇数的和：\",sum_odd)\n",
    "print(\"1~100中所有偶数的和：\",sum_even)\n"
   ]
  },
  {
   "cell_type": "code",
   "execution_count": 9,
   "metadata": {},
   "outputs": [
    {
     "name": "stdout",
     "output_type": "stream",
     "text": [
      "和=5050、奇数和=2500、偶数和=2550\n"
     ]
    }
   ],
   "source": [
    "# 3.10\n",
    "i = 1\n",
    "sum_all = 0\n",
    "sum_odd = 0\n",
    "sum_even = 0\n",
    "\n",
    "while(i <= 100):\n",
    "    sum_all += i\n",
    "    if i % 2 != 0:\n",
    "        sum_odd += i\n",
    "    else:\n",
    "        sum_even += i\n",
    "    i += 1\n",
    "\n",
    "print(\"和=%d、奇数和=%d、偶数和=%d\"%(sum_all,sum_odd,sum_even))"
   ]
  },
  {
   "cell_type": "code",
   "execution_count": 10,
   "metadata": {},
   "outputs": [
    {
     "name": "stdout",
     "output_type": "stream",
     "text": [
      "e =  2.7182818011463845\n"
     ]
    }
   ],
   "source": [
    "# 3.11\n",
    "i = 1\n",
    "e = 1\n",
    "t = 1\n",
    "\n",
    "while(1/t >= pow(10,-6)):\n",
    "    t *= i\n",
    "    e += 1/t\n",
    "    i += 1\n",
    "print(\"e = \",e)"
   ]
  },
  {
   "cell_type": "code",
   "execution_count": 11,
   "metadata": {},
   "outputs": [
    {
     "name": "stdout",
     "output_type": "stream",
     "text": [
      "1*1 = 1  1*2 = 2  1*3 = 3  1*4 = 4  1*5 = 5  1*6 = 6  1*7 = 7  1*8 = 8  1*9 = 9  \n",
      "2*1 = 2  2*2 = 4  2*3 = 6  2*4 = 8  2*5 = 10 2*6 = 12 2*7 = 14 2*8 = 16 2*9 = 18 \n",
      "3*1 = 3  3*2 = 6  3*3 = 9  3*4 = 12 3*5 = 15 3*6 = 18 3*7 = 21 3*8 = 24 3*9 = 27 \n",
      "4*1 = 4  4*2 = 8  4*3 = 12 4*4 = 16 4*5 = 20 4*6 = 24 4*7 = 28 4*8 = 32 4*9 = 36 \n",
      "5*1 = 5  5*2 = 10 5*3 = 15 5*4 = 20 5*5 = 25 5*6 = 30 5*7 = 35 5*8 = 40 5*9 = 45 \n",
      "6*1 = 6  6*2 = 12 6*3 = 18 6*4 = 24 6*5 = 30 6*6 = 36 6*7 = 42 6*8 = 48 6*9 = 54 \n",
      "7*1 = 7  7*2 = 14 7*3 = 21 7*4 = 28 7*5 = 35 7*6 = 42 7*7 = 49 7*8 = 56 7*9 = 63 \n",
      "8*1 = 8  8*2 = 16 8*3 = 24 8*4 = 32 8*5 = 40 8*6 = 48 8*7 = 56 8*8 = 64 8*9 = 72 \n",
      "9*1 = 9  9*2 = 18 9*3 = 27 9*4 = 36 9*5 = 45 9*6 = 54 9*7 = 63 9*8 = 72 9*9 = 81 \n"
     ]
    }
   ],
   "source": [
    "# 3.12\n",
    "for i in range(1,10):\n",
    "    s = ''\n",
    "    for j in range(1,10):\n",
    "        s += str.format(\"{0:1}*{1:1} = {2:<3}\",i,j,i*j)\n",
    "    print(s)"
   ]
  },
  {
   "cell_type": "code",
   "execution_count": 12,
   "metadata": {},
   "outputs": [
    {
     "name": "stdout",
     "output_type": "stream",
     "text": [
      "字符串的长度为： 11\n"
     ]
    }
   ],
   "source": [
    "# 3.13\n",
    "while True:\n",
    "    s = input(\"请输入字符串（按Q或q键结束）\")\n",
    "    if s.upper() == 'Q':\n",
    "        break\n",
    "    print(\"字符串的长度为：\",len(s))"
   ]
  },
  {
   "cell_type": "code",
   "execution_count": 13,
   "metadata": {},
   "outputs": [
    {
     "name": "stdout",
     "output_type": "stream",
     "text": [
      "100 是合数！\n",
      "100 是合数！\n"
     ]
    }
   ],
   "source": [
    "# 3.14\n",
    "import math\n",
    "m = int(input(\"请输入一个整数（>1):\"))\n",
    "k = int(math.sqrt(m))\n",
    "# 方法一\n",
    "for i in range(2,k+2):\n",
    "    if m % i == 0:\n",
    "        break\n",
    "if i == k + 1:print(m,\"是素数！\")\n",
    "else:print(m,\"是合数！\")\n",
    "\n",
    "# 方法二\n",
    "flag = True\n",
    "i = 2\n",
    "while(i <= k and flag == True):\n",
    "    if(m % i == 0):flag = False\n",
    "    else:i += 1\n",
    "if(flag == True):print(m,\"是素数！\")\n",
    "else:print(m,\"是合数！\")"
   ]
  },
  {
   "cell_type": "code",
   "execution_count": 14,
   "metadata": {},
   "outputs": [
    {
     "name": "stdout",
     "output_type": "stream",
     "text": [
      "学生人数为：2，平均成绩为：76.0\n"
     ]
    }
   ],
   "source": [
    "# 3.15\n",
    "num = 0\n",
    "scores = 0\n",
    "while True:\n",
    "    s = input(\"请输入学生成绩（按Q或q键结束）\")\n",
    "    if s.upper() == 'Q':\n",
    "        break\n",
    "    if float(s) < 0:\n",
    "        continue\n",
    "    num += 1\n",
    "    scores += float(s)\n",
    "print(\"学生人数为：{0}，平均成绩为：{1}\".format(num,scores/num))"
   ]
  },
  {
   "cell_type": "code",
   "execution_count": 15,
   "metadata": {},
   "outputs": [
    {
     "name": "stdout",
     "output_type": "stream",
     "text": [
      "100~200之间不能被3整除的数为:\n",
      "100  101  103  104  106  107  109  110  112  113  \n",
      "115  116  118  119  121  122  124  125  127  128  \n",
      "130  131  133  134  136  137  139  140  142  143  \n",
      "145  146  148  149  151  152  154  155  157  158  \n",
      "160  161  163  164  166  167  169  170  172  173  \n",
      "175  176  178  179  181  182  184  185  187  188  \n",
      "190  191  193  194  196  197  199  200  "
     ]
    }
   ],
   "source": [
    "# 3.16\n",
    "j = 0\n",
    "print(\"100~200之间不能被3整除的数为:\")\n",
    "for i in range(100,201):\n",
    "    if(i % 3 == 0):continue\n",
    "    print(str.format(\"{0:<5}\",i),end=\"\")\n",
    "    j += 1\n",
    "    if(j % 10 == 0):print()"
   ]
  },
  {
   "cell_type": "code",
   "execution_count": null,
   "metadata": {},
   "outputs": [],
   "source": [
    "# 3.17\n",
    "import math\n",
    "while True:\n",
    "    num = float(input(\"请输入一个正数：\"))\n",
    "    print(str(num),\"的平方根为：\",math.sqrt(num))\n",
    "print(\"Good bye!\")"
   ]
  },
  {
   "cell_type": "code",
   "execution_count": 16,
   "metadata": {},
   "outputs": [
    {
     "name": "stdout",
     "output_type": "stream",
     "text": [
      "您输入了3个爱好。\n",
      "您的爱好为： 旅游 音乐 运动 \n"
     ]
    }
   ],
   "source": [
    "# 3.18\n",
    "hobbies = \"\"\n",
    "for i in range(1,4):\n",
    "    s = input('请输入爱好之一（最多3个，按Q或q键结束)：')\n",
    "    if s.upper() == 'Q':\n",
    "        break\n",
    "    hobbies += s + ' '\n",
    "else:\n",
    "    print(\"您输入了3个爱好。\")\n",
    "print(\"您的爱好为：\",hobbies)\n"
   ]
  },
  {
   "cell_type": "code",
   "execution_count": 17,
   "metadata": {},
   "outputs": [
    {
     "name": "stdout",
     "output_type": "stream",
     "text": [
      "第1季节：Spring\n",
      "第2季节：Summer\n",
      "第3季节：Autumn\n",
      "第4季节：Wonter\n"
     ]
    }
   ],
   "source": [
    "# 3.19\n",
    "seasons = ['Spring','Summer','Autumn','Winter']\n",
    "for  i,s in enumerate(seasons,start=1):\n",
    "    print(\"第{0}季节：{1}\".format(i,s))"
   ]
  },
  {
   "cell_type": "code",
   "execution_count": 18,
   "metadata": {},
   "outputs": [
    {
     "name": "stdout",
     "output_type": "stream",
     "text": [
      "0*1 = 0\n",
      "2*3 = 6\n",
      "4*5 = 20\n",
      "6*7 = 42\n",
      "8*9 = 72\n"
     ]
    }
   ],
   "source": [
    "# 3.20\n",
    "evens = [0,2,4,6,8]\n",
    "odds = [1,3,5,7,9]\n",
    "for e,o in zip(evens,odds):\n",
    "    print(\"{0}*{1} = {2}\".format(e,o,e*o))"
   ]
  },
  {
   "cell_type": "code",
   "execution_count": 19,
   "metadata": {},
   "outputs": [
    {
     "data": {
      "text/plain": [
       "[1, 0, 7, 8]"
      ]
     },
     "execution_count": 19,
     "metadata": {},
     "output_type": "execute_result"
    }
   ],
   "source": [
    "# 3.21\n",
    "list(map(abs,[-1,0,7,-8]))"
   ]
  },
  {
   "cell_type": "code",
   "execution_count": 20,
   "metadata": {},
   "outputs": [
    {
     "name": "stdout",
     "output_type": "stream",
     "text": [
      "2.23606797749979\n"
     ]
    }
   ],
   "source": [
    "# 3.22\n",
    "EPSILON = 1e-15\n",
    "a = float(input(\"请输入正实数a:\"))\n",
    "t = a\n",
    "while abs(t - a/t) > (EPSILON * t):\n",
    "    t = (a/t + t) / 2.0\n",
    "\n",
    "print(t)"
   ]
  },
  {
   "cell_type": "code",
   "execution_count": 28,
   "metadata": {},
   "outputs": [
    {
     "name": "stdout",
     "output_type": "stream",
     "text": [
      "     1     1     2     3\n",
      "     5     8    13    21\n",
      "    34    55    89   144\n",
      "   233   377   610   987\n",
      "  1597  2584  4181  6765\n",
      "1 1 2 3 5 8 13 21 34 55 89 144 233 377 610 987 1597 2584 4181 6765 "
     ]
    }
   ],
   "source": [
    "# 3.23\n",
    "f1 =1\n",
    "f2 = 1\n",
    "for i in range(1,11):\n",
    "    print(str.format(\"{0:6}{1:6}\",f1,f2),end='')\n",
    "    if i % 2 == 0:print()\n",
    "    f1 += f2\n",
    "    f2 += f1\n",
    "\n",
    "# 递归\n",
    "def fibonacci(n):\n",
    "    while(n >=1 ):\n",
    "        if n == 1 or n == 2:return 1\n",
    "        else: return fibonacci(n-1)+fibonacci(n-2)\n",
    "\n",
    "for i in range(1,21):\n",
    "        print(fibonacci(i),end=' ')"
   ]
  }
 ],
 "metadata": {
  "kernelspec": {
   "display_name": "Python 3",
   "language": "python",
   "name": "python3"
  },
  "language_info": {
   "codemirror_mode": {
    "name": "ipython",
    "version": 3
   },
   "file_extension": ".py",
   "mimetype": "text/x-python",
   "name": "python",
   "nbconvert_exporter": "python",
   "pygments_lexer": "ipython3",
   "version": "3.11.5"
  }
 },
 "nbformat": 4,
 "nbformat_minor": 2
}
